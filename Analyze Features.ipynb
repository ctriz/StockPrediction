{
 "cells": [
  {
   "cell_type": "code",
   "execution_count": null,
   "metadata": {},
   "outputs": [],
   "source": [
    "# This Python 3 environment comes with many helpful analytics libraries installed\n",
    "# It is defined by the kaggle/python docker image: https://github.com/kaggle/docker-python\n",
    "# For example, here's several helpful packages to load in \n",
    "#!/usr/bin/env python\n",
    "# coding: utf-8\n"
   ]
  },
  {
   "cell_type": "code",
   "execution_count": null,
   "metadata": {},
   "outputs": [],
   "source": [
    "#For data processing\n",
    "import pandas as pd\n",
    "import numpy as np\n",
    "import datetime as dt\n",
    "\n",
    "#For data visualization\n",
    "import matplotlib.pyplot as plt\n",
    "import seaborn as sns\n",
    "\n",
    "#For models\n",
    "from sklearn import metrics\n",
    "from sklearn.preprocessing import MinMaxScaler\n",
    "from keras.models import Sequential\n",
    "from keras.layers import Dense\n",
    "from keras.layers import LSTM\n",
    "from keras.layers import Dropout\n",
    "\n",
    "# IMPORTING IMPORTANT LIBRARIES\n",
    "import pandas as pd\n",
    "import matplotlib.pyplot as plt\n",
    "import numpy as np \n",
    "import math\n",
    "from sklearn.preprocessing import MinMaxScaler\n",
    "from sklearn.metrics import mean_squared_error\n",
    "from keras.models import Sequential\n",
    "from keras.layers import Dense, Activation\n",
    "from keras.layers import LSTM\n",
    "import preprocessing \n"
   ]
  },
  {
   "cell_type": "code",
   "execution_count": null,
   "metadata": {
    "scrolled": true
   },
   "outputs": [],
   "source": [
    "\n",
    "# # fix_yahoo_finance is used to fetch data \n",
    "# import yfinance as yf\n",
    "# yf.pdr_override()\n",
    "\n",
    "\n",
    "# # input\n",
    "# symbol = 'RELIANCE.NS'\n",
    "# start = '2017-01-01'\n",
    "# end = '2018-01-01'\n",
    "\n",
    "\n",
    "# # dataframe\n",
    "# dataset = yf.download(symbol,start,end)\n",
    "\n",
    "\n",
    "\n",
    "# # View the last 5 rows\n",
    "# print('Last 5 Rows')\n",
    "# print(df.tail())\n",
    "\n",
    "#Read input file\n",
    "df = pd.read_csv(\"C:\\\\Users\\\\tcgra\\\\Documents\\\\LJMU_Code\\Datasets\\\\infosys_stock.csv\")\n",
    "df.head(5)\n",
    "\n"
   ]
  },
  {
   "cell_type": "code",
   "execution_count": null,
   "metadata": {
    "scrolled": true
   },
   "outputs": [],
   "source": [
    "df.info()"
   ]
  },
  {
   "cell_type": "code",
   "execution_count": null,
   "metadata": {
    "scrolled": true
   },
   "outputs": [],
   "source": [
    "df['Open'].plot(figsize=(16,6))\n",
    "df.rolling(window=30).mean()['Open'].plot()"
   ]
  },
  {
   "cell_type": "markdown",
   "metadata": {},
   "source": [
    "\n",
    "FEATURE GENERATION"
   ]
  },
  {
   "cell_type": "code",
   "execution_count": null,
   "metadata": {},
   "outputs": [],
   "source": [
    "def get_technical_indicators(data): #function to generate feature technical indicators\n",
    "    import talib as ta\n",
    "    #Simple Moving Average\n",
    "    data['SMA'] = ta.SMA(data['Adj Close'], timeperiod = 20)\n",
    "\n",
    "    # Exponential Moving Average\n",
    "    data['EMA'] = ta.EMA(data['Adj Close'], timeperiod = 20)\n",
    "    # Plot\n",
    "    data[['Adj Close','SMA','EMA']].plot(figsize=(10,5))\n",
    "    plt.title('Adj Close, SMA & EMA)')\n",
    "    plt.show()\n",
    "    \n",
    "    # Bollinger Bands\n",
    "    data['upper_band'], data['middle_band'], data['lower_band'] = ta.BBANDS(data['Adj Close'], timeperiod =20)\n",
    "    # Plot\n",
    "    data[['Adj Close','upper_band','middle_band','lower_band']].plot(figsize=(10,5))\n",
    "    plt.show()\n",
    "    \n",
    "    # Moving Average Convergence Divergence (MACD)\n",
    "    data['macd'], data['macdsignal'], data['macdhist'] = ta.MACD(data['Adj Close'], fastperiod=12, slowperiod=26, signalperiod=9)\n",
    "    data[['macd','macdsignal']].plot(figsize=(10,5))\n",
    "    plt.title('On Balance Volume (in millions)')\n",
    "    plt.show() \n",
    "        \n",
    "        \n",
    "    # Relative Strength Index (RSI)\n",
    "    data['RSI'] = ta.RSI(data['Adj Close'], timeperiod=14)\n",
    "    # Plotting RSI\n",
    "    fig,ax = plt.subplots(figsize=(10,5))\n",
    "    ax.plot(data.index, data.RSI, label='RSI')\n",
    "    ax.fill_between(data.index, y1=30, y2=70, color = 'lightcoral', alpha='0.3')\n",
    "    ax.set_xlabel('Date')\n",
    "    ax.set_ylabel('RSI')\n",
    "    plt.show()\n",
    "    \n",
    "    # On Balanace Vol (OBV)\n",
    "    data['OBV'] = ta.OBV(data['Adj Close'], data['Volume'])/10**6\n",
    "    data.OBV.plot()\n",
    "    plt.ylabel('On Balance Volume (in millions)')\n",
    "    plt.show()\n",
    "    \n",
    "    #Average Directional Index (ADX)\n",
    "    data.fillna(0, inplace=True)\n",
    "#     return dataset\n",
    "    return data"
   ]
  },
  {
   "cell_type": "code",
   "execution_count": null,
   "metadata": {},
   "outputs": [],
   "source": [
    "\n",
    "df_TI = get_technical_indicators(df)\n",
    "df_TI.head(10)"
   ]
  },
  {
   "cell_type": "code",
   "execution_count": null,
   "metadata": {},
   "outputs": [],
   "source": [
    "print('Total dataset has {} samples, and {} features.'.format(df_TI.shape[0], \\\n",
    "                                                              df_TI.shape[1]))"
   ]
  },
  {
   "cell_type": "markdown",
   "metadata": {},
   "source": [
    "FINDING IMPORTANT FEATURES USING XGBOOST"
   ]
  },
  {
   "cell_type": "code",
   "execution_count": null,
   "metadata": {},
   "outputs": [],
   "source": [
    "def get_feature_importance_data(dataset):\n",
    "    data = dataset.copy()\n",
    "    y = data['Close']\n",
    "    X = data.iloc[:,1:19]\n",
    "    \n",
    "    train_samples = int(X.shape[0] * 0.65)\n",
    " \n",
    "    X_train = X.iloc[:train_samples]\n",
    "    X_test = X.iloc[train_samples:]\n",
    "\n",
    "    y_train = y.iloc[:train_samples]\n",
    "    y_test = y.iloc[train_samples:]\n",
    "    \n",
    "    return (X_train, y_train), (X_test, y_test)"
   ]
  },
  {
   "cell_type": "code",
   "execution_count": null,
   "metadata": {},
   "outputs": [],
   "source": [
    "# Get training and test data\n",
    "(X_train_FI, y_train_FI), (X_test_FI, y_test_FI) = get_feature_importance_data(df_TI)"
   ]
  },
  {
   "cell_type": "code",
   "execution_count": null,
   "metadata": {},
   "outputs": [],
   "source": [
    "import xgboost as xgb\n",
    "from sklearn.metrics import accuracy_score\n",
    "\n",
    "regressor = xgb.XGBRegressor(gamma=0.0,n_estimators=150,base_score=0.7,colsample_bytree=1,learning_rate=0.05)\n",
    "\n",
    "xgbModel = regressor.fit(X_train_FI,y_train_FI, \\\n",
    "                         eval_set = [(X_train_FI, y_train_FI), (X_test_FI, y_test_FI)], \\\n",
    "                         verbose=False)\n",
    "eval_result = regressor.evals_result()\n",
    "training_rounds = range(len(eval_result['validation_0']['rmse']))"
   ]
  },
  {
   "cell_type": "code",
   "execution_count": null,
   "metadata": {},
   "outputs": [],
   "source": [
    "plt.scatter(x=training_rounds,y=eval_result['validation_0']['rmse'],label='Training Error')\n",
    "plt.scatter(x=training_rounds,y=eval_result['validation_1']['rmse'],label='Validation Error')\n",
    "plt.xlabel('Iterations')\n",
    "plt.ylabel('RMSE')\n",
    "plt.title('Training Vs Validation Error')\n",
    "plt.legend()\n",
    "plt.show()"
   ]
  },
  {
   "cell_type": "markdown",
   "metadata": {},
   "source": [
    "THE DIFFERENCE BETWEEN VALIDATION AND TRAINING ERROR SHOWS A UNDERFIT MODEL. EXPECTED BECAUSE OF THE WAY TRAINING AND TESTING DATA IS SPLIT JUST WHEN STOCK BOOMS"
   ]
  },
  {
   "cell_type": "code",
   "execution_count": null,
   "metadata": {},
   "outputs": [],
   "source": [
    "fig = plt.figure(figsize=(8,8))\n",
    "plt.xticks(rotation='vertical')\n",
    "plt.bar([i for i in range(len(xgbModel.feature_importances_))], xgbModel.feature_importances_.tolist(), tick_label=X_test_FI.columns)\n",
    "plt.title('Infosys: Feature importance in XGBoost.')\n",
    "plt.show()"
   ]
  },
  {
   "cell_type": "markdown",
   "metadata": {},
   "source": [
    "We could say that features OHLC and EMA are imp features"
   ]
  },
  {
   "cell_type": "code",
   "execution_count": null,
   "metadata": {},
   "outputs": [],
   "source": [
    "from sklearn.ensemble import RandomForestRegressor\n",
    "model = RandomForestRegressor(n_estimators=250, max_depth=25)\n",
    "y = df_TI['Close']\n",
    "X = df_TI.iloc[:,1:19]\n",
    "model.fit(X,y)\n",
    "importance = pd.DataFrame({'features': X.columns,'importances': model.feature_importances_})\n",
    "importance = importance.sort_values('importances', ascending=False)\n",
    "plt.figure(figsize = (16,12))\n",
    "sns.barplot(importance.importances, importance.features)\n",
    "plt.title('RandomForestRegressor Feature Importance Plot')\n",
    "plt.show()"
   ]
  },
  {
   "cell_type": "code",
   "execution_count": null,
   "metadata": {},
   "outputs": [],
   "source": [
    "import shap\n",
    "explainer = shap.TreeExplainer(model)\n",
    "shap_values = explainer.shap_values(X_test_FI)"
   ]
  },
  {
   "cell_type": "code",
   "execution_count": null,
   "metadata": {},
   "outputs": [],
   "source": [
    "shap.summary_plot(shap_values, X_test_FI, plot_type=\"bar\")"
   ]
  },
  {
   "cell_type": "code",
   "execution_count": null,
   "metadata": {},
   "outputs": [],
   "source": [
    "from sklearn.inspection import permutation_importance"
   ]
  },
  {
   "cell_type": "code",
   "execution_count": null,
   "metadata": {},
   "outputs": [],
   "source": [
    "perm_importance = permutation_importance(model, X_test_FI, y_test_FI)"
   ]
  },
  {
   "cell_type": "code",
   "execution_count": null,
   "metadata": {},
   "outputs": [],
   "source": [
    "sorted_idx = perm_importance.importances_mean.argsort()\n",
    "plt.barh(X.columns[sorted_idx], perm_importance.importances_mean[sorted_idx])\n",
    "plt.xlabel(\"Permutation Importance\")"
   ]
  },
  {
   "cell_type": "code",
   "execution_count": null,
   "metadata": {},
   "outputs": [],
   "source": []
  }
 ],
 "metadata": {
  "kernelspec": {
   "display_name": "Python 3",
   "language": "python",
   "name": "python3"
  },
  "language_info": {
   "codemirror_mode": {
    "name": "ipython",
    "version": 3
   },
   "file_extension": ".py",
   "mimetype": "text/x-python",
   "name": "python",
   "nbconvert_exporter": "python",
   "pygments_lexer": "ipython3",
   "version": "3.7.6"
  }
 },
 "nbformat": 4,
 "nbformat_minor": 4
}
