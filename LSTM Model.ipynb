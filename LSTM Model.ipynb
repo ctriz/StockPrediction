{
 "cells": [
  {
   "cell_type": "code",
   "execution_count": 1,
   "metadata": {},
   "outputs": [],
   "source": [
    "# This Python 3 environment comes with many helpful analytics libraries installed\n",
    "# It is defined by the kaggle/python docker image: https://github.com/kaggle/docker-python\n",
    "# For example, here's several helpful packages to load in \n",
    "#!/usr/bin/env python\n",
    "# coding: utf-8\n"
   ]
  },
  {
   "cell_type": "code",
   "execution_count": 2,
   "metadata": {},
   "outputs": [],
   "source": [
    "#For data processing\n",
    "import pandas as pd\n",
    "import numpy as np\n",
    "import datetime as dt\n",
    "\n",
    "#For data visualization\n",
    "import matplotlib.pyplot as plt\n",
    "import seaborn as sns\n",
    "\n",
    "#For models\n",
    "from sklearn import metrics\n",
    "from sklearn.preprocessing import MinMaxScaler\n",
    "from keras.models import Sequential\n",
    "from keras.layers import Dense\n",
    "from keras.layers import LSTM\n",
    "from keras.layers import Dropout\n",
    "\n",
    "# IMPORTING IMPORTANT LIBRARIES\n",
    "import pandas as pd\n",
    "import matplotlib.pyplot as plt\n",
    "import numpy as np \n",
    "import math\n",
    "from sklearn.preprocessing import MinMaxScaler\n",
    "from sklearn.metrics import mean_squared_error\n",
    "from keras.models import Sequential\n",
    "from keras.layers import Dense, Activation\n",
    "from keras.layers import LSTM\n",
    "from keras.optimizers import RMSprop, SGD, Adam\n",
    "import preprocessing \n"
   ]
  },
  {
   "cell_type": "code",
   "execution_count": 3,
   "metadata": {
    "scrolled": false
   },
   "outputs": [],
   "source": [
    "df = pd.read_csv(\"C:\\\\Users\\\\tcgra\\\\Documents\\\\LJMU_Code\\Datasets\\\\reliance_stock.csv\")"
   ]
  },
  {
   "cell_type": "markdown",
   "metadata": {},
   "source": [
    "These key features are used for LSTM"
   ]
  },
  {
   "cell_type": "code",
   "execution_count": 4,
   "metadata": {
    "scrolled": true
   },
   "outputs": [
    {
     "data": {
      "text/html": [
       "<div>\n",
       "<style scoped>\n",
       "    .dataframe tbody tr th:only-of-type {\n",
       "        vertical-align: middle;\n",
       "    }\n",
       "\n",
       "    .dataframe tbody tr th {\n",
       "        vertical-align: top;\n",
       "    }\n",
       "\n",
       "    .dataframe thead th {\n",
       "        text-align: right;\n",
       "    }\n",
       "</style>\n",
       "<table border=\"1\" class=\"dataframe\">\n",
       "  <thead>\n",
       "    <tr style=\"text-align: right;\">\n",
       "      <th></th>\n",
       "      <th>Open</th>\n",
       "      <th>High</th>\n",
       "      <th>Low</th>\n",
       "      <th>Close</th>\n",
       "    </tr>\n",
       "  </thead>\n",
       "  <tbody>\n",
       "    <tr>\n",
       "      <th>0</th>\n",
       "      <td>90.591797</td>\n",
       "      <td>90.591797</td>\n",
       "      <td>88.584702</td>\n",
       "      <td>89.131401</td>\n",
       "    </tr>\n",
       "    <tr>\n",
       "      <th>1</th>\n",
       "      <td>89.732803</td>\n",
       "      <td>91.981903</td>\n",
       "      <td>89.131401</td>\n",
       "      <td>91.403999</td>\n",
       "    </tr>\n",
       "    <tr>\n",
       "      <th>2</th>\n",
       "      <td>91.372803</td>\n",
       "      <td>92.138100</td>\n",
       "      <td>89.342300</td>\n",
       "      <td>90.599602</td>\n",
       "    </tr>\n",
       "    <tr>\n",
       "      <th>3</th>\n",
       "      <td>90.748001</td>\n",
       "      <td>91.919502</td>\n",
       "      <td>88.100502</td>\n",
       "      <td>89.404800</td>\n",
       "    </tr>\n",
       "    <tr>\n",
       "      <th>4</th>\n",
       "      <td>89.061096</td>\n",
       "      <td>90.982300</td>\n",
       "      <td>88.561302</td>\n",
       "      <td>90.615196</td>\n",
       "    </tr>\n",
       "    <tr>\n",
       "      <th>5</th>\n",
       "      <td>91.372803</td>\n",
       "      <td>93.387703</td>\n",
       "      <td>91.083801</td>\n",
       "      <td>92.169403</td>\n",
       "    </tr>\n",
       "    <tr>\n",
       "      <th>6</th>\n",
       "      <td>93.715698</td>\n",
       "      <td>94.598198</td>\n",
       "      <td>89.834297</td>\n",
       "      <td>90.380997</td>\n",
       "    </tr>\n",
       "  </tbody>\n",
       "</table>\n",
       "</div>"
      ],
      "text/plain": [
       "        Open       High        Low      Close\n",
       "0  90.591797  90.591797  88.584702  89.131401\n",
       "1  89.732803  91.981903  89.131401  91.403999\n",
       "2  91.372803  92.138100  89.342300  90.599602\n",
       "3  90.748001  91.919502  88.100502  89.404800\n",
       "4  89.061096  90.982300  88.561302  90.615196\n",
       "5  91.372803  93.387703  91.083801  92.169403\n",
       "6  93.715698  94.598198  89.834297  90.380997"
      ]
     },
     "execution_count": 4,
     "metadata": {},
     "output_type": "execute_result"
    }
   ],
   "source": [
    "# PREPARATION OF TIME SERIES DATASE\n",
    "lstm_df = df[['Open','High','Low','Close']]\n",
    "lstm_df.head(7)"
   ]
  },
  {
   "cell_type": "code",
   "execution_count": 5,
   "metadata": {},
   "outputs": [
    {
     "name": "stdout",
     "output_type": "stream",
     "text": [
      "Total dataset has 3698 samples, and 4 features.\n"
     ]
    }
   ],
   "source": [
    "print('Total dataset has {} samples, and {} features.'.format(lstm_df.shape[0], \\\n",
    "                                                            lstm_df.shape[1]))"
   ]
  },
  {
   "cell_type": "code",
   "execution_count": 6,
   "metadata": {},
   "outputs": [],
   "source": [
    "df_close = lstm_df['Close']"
   ]
  },
  {
   "cell_type": "code",
   "execution_count": 7,
   "metadata": {
    "scrolled": true
   },
   "outputs": [
    {
     "data": {
      "image/png": "[encoded data removed]",
      "text/plain": [
       "<Figure size 432x288 with 1 Axes>"
      ]
     },
     "metadata": {
      "needs_background": "light"
     },
     "output_type": "display_data"
    }
   ],
   "source": [
    "import matplotlib.pyplot as plt\n",
    "from sklearn.preprocessing import MinMaxScaler\n",
    "scaler = MinMaxScaler(feature_range=(0, 1)) \n",
    "df_close = df_close.values.reshape(df_close.size,1) #Reshaping it\n",
    "df_close = scaler.fit_transform(df_close)\n",
    "\n",
    "\n",
    "#Ploting it\n",
    "plt.plot(df_close)\n",
    "plt.title('Normalised Prices using MinMaxScaler')\n",
    "plt.show()"
   ]
  },
  {
   "cell_type": "code",
   "execution_count": 8,
   "metadata": {},
   "outputs": [],
   "source": [
    "# import matplotlib.pyplot as plt\n",
    "# from sklearn.preprocessing import StandardScaler\n",
    "\n",
    "# #Ploting it\n",
    "# plt.plot(df_close)\n",
    "# plt.title('Standardised Prices using StandardScaler')\n",
    "# plt.show()\n",
    "\n",
    "# scaler = StandardScaler(feature_range=(0, 1))\n",
    "# df_close = scaler.fit_transform(df_close)"
   ]
  },
  {
   "cell_type": "markdown",
   "metadata": {},
   "source": [
    "Split dataset into train and test"
   ]
  },
  {
   "cell_type": "code",
   "execution_count": 9,
   "metadata": {},
   "outputs": [
    {
     "name": "stdout",
     "output_type": "stream",
     "text": [
      "2958 740\n"
     ]
    }
   ],
   "source": [
    "#creating test, train and validate trains\n",
    "train_size = int(len(df_close) * 0.80)\n",
    "test_size = len(df_close) - train_size\n",
    "train_df, test_df = df_close[0:train_size,:], df_close[train_size:len(df_close),:]\n",
    "print(len(train_df), len(test_df))"
   ]
  },
  {
   "cell_type": "markdown",
   "metadata": {},
   "source": [
    "Normalize data: The data is not normalized and the range for each column varies, especially Volume. Normalizing data helps the algorithm in converging i.e. to find local/ global minimum efficiently. Use MinMaxScaler from Sci-kit Learn."
   ]
  },
  {
   "cell_type": "code",
   "execution_count": 10,
   "metadata": {},
   "outputs": [],
   "source": [
    "# FUNCTION TO CREATE 1D DATA INTO TIME SERIES DATASET\n",
    "# function to create Features and Labels datasets\n",
    "# Arguments: 1) data - dataset used in the project \n",
    "#            2) window_size = step_size data points to use to predict the next datapoint in the sequence \n",
    "# Outputs: \n",
    "#            X - features splitted into windows of datapoints (if window_size = 1, X = [len(data)-1, 1])\n",
    "#            y - 'labels', actually this is the next number in the sequence, this number we are trying to predict\n",
    "\n",
    "def create_dataset(dataset, window_size): \n",
    "\tdataX, dataY = [], []       \n",
    "\tfor i in range(len(dataset)-window_size-1): \n",
    "\t\ta = dataset[i:(i+window_size), 0]\n",
    "\t\tdataX.append(a)\n",
    "\t\tdataY.append(dataset[i + window_size, 0])\n",
    "\treturn np.array(dataX), np.array(dataY)"
   ]
  },
  {
   "cell_type": "markdown",
   "metadata": {},
   "source": [
    "Convert feature set and label set into arrays and shape feature set into a 3D input that LSTM network demands"
   ]
  },
  {
   "cell_type": "code",
   "execution_count": 11,
   "metadata": {},
   "outputs": [],
   "source": [
    "# window_size =1 [predicting the next day]\n",
    "\n",
    "# Windowing the data with create_dataset function\n",
    "\n",
    "trainX, trainY = create_dataset(train_df, 1)\n",
    "testX, testY = create_dataset(test_df, 1)\n",
    "\n",
    "#Re-shaping the data set to 3D\n",
    "#3D: sample_size, window_size or time_steps and input features\n",
    "# trainX.shape[0], window_size, trainX.shape[1] \n",
    "\n",
    "\n",
    "trainX = np.reshape(trainX, (trainX.shape[0],1, trainX.shape[1]))\n",
    "testX = np.reshape(testX, (testX.shape[0],1, testX.shape[1]))\n",
    "\n",
    "\n",
    "window_size = 1"
   ]
  },
  {
   "cell_type": "code",
   "execution_count": 12,
   "metadata": {},
   "outputs": [
    {
     "name": "stdout",
     "output_type": "stream",
     "text": [
      "trainX: (2956, 1, 1) trainY: (2956,) testX: (738, 1, 1) testY: (738,)\n"
     ]
    }
   ],
   "source": [
    "print(\"trainX:\",trainX.shape,\"trainY:\",trainY.shape,\"testX:\",testX.shape,\"testY:\",testY.shape)"
   ]
  },
  {
   "cell_type": "code",
   "execution_count": 13,
   "metadata": {},
   "outputs": [
    {
     "name": "stdout",
     "output_type": "stream",
     "text": [
      "compilation time :  0.0060138702392578125\n"
     ]
    }
   ],
   "source": [
    "\n",
    "#library for LSTM\n",
    "from keras.models import Sequential\n",
    "from keras.layers import Dense\n",
    "from keras.layers import LSTM\n",
    "from keras.layers import Dropout\n",
    "from keras.layers import Flatten\n",
    "\n",
    "#Step - Build Model\n",
    "\n",
    "model = Sequential()\n",
    "\n",
    "model.add(LSTM(units=128, return_sequences=True, input_shape=(trainX.shape[1],window_size)))\n",
    "model.add(Dropout(0.2))\n",
    "\n",
    "model.add(LSTM(units=64, return_sequences=False))\n",
    "model.add(Dropout(0.2))\n",
    "\n",
    "model.add(Dense(units = 1)) #output layer\n",
    "model.add(Activation('relu'))\n",
    "\n",
    "import time #helper libraries\n",
    "start = time.time()\n",
    "#opt = RMSprop(lr=0.01, momentum=0.0)\n",
    "opt = RMSprop()\n",
    "model.compile(optimizer = opt, loss = 'mean_squared_error', metrics = ['mean_absolute_error'])\n",
    "print ('compilation time : ', time.time() - start)"
   ]
  },
  {
   "cell_type": "code",
   "execution_count": 14,
   "metadata": {},
   "outputs": [
    {
     "name": "stdout",
     "output_type": "stream",
     "text": [
      "Epoch 1/50\n",
      "93/93 [==============================] - 1s 9ms/step - loss: 0.0115 - mean_absolute_error: 0.0744 - val_loss: 2.7492e-04 - val_mean_absolute_error: 0.0122\n",
      "Epoch 2/50\n",
      "93/93 [==============================] - 0s 3ms/step - loss: 7.6715e-04 - mean_absolute_error: 0.0207 - val_loss: 1.8705e-04 - val_mean_absolute_error: 0.0103\n",
      "Epoch 3/50\n",
      "93/93 [==============================] - 0s 4ms/step - loss: 6.9770e-04 - mean_absolute_error: 0.0194 - val_loss: 7.0577e-04 - val_mean_absolute_error: 0.0238\n",
      "Epoch 4/50\n",
      "93/93 [==============================] - 0s 4ms/step - loss: 6.2290e-04 - mean_absolute_error: 0.0185 - val_loss: 1.3358e-04 - val_mean_absolute_error: 0.0080\n",
      "Epoch 5/50\n",
      "93/93 [==============================] - 0s 3ms/step - loss: 5.5132e-04 - mean_absolute_error: 0.0170 - val_loss: 1.0784e-04 - val_mean_absolute_error: 0.0065\n",
      "Epoch 6/50\n",
      "93/93 [==============================] - 0s 4ms/step - loss: 5.2504e-04 - mean_absolute_error: 0.0167 - val_loss: 3.5616e-04 - val_mean_absolute_error: 0.0157\n",
      "Epoch 7/50\n",
      "93/93 [==============================] - 0s 3ms/step - loss: 5.4213e-04 - mean_absolute_error: 0.0169 - val_loss: 1.1027e-04 - val_mean_absolute_error: 0.0067\n",
      "Epoch 8/50\n",
      "93/93 [==============================] - 0s 3ms/step - loss: 4.7684e-04 - mean_absolute_error: 0.0158 - val_loss: 9.3917e-05 - val_mean_absolute_error: 0.0058\n",
      "Epoch 9/50\n",
      "93/93 [==============================] - 0s 3ms/step - loss: 4.4827e-04 - mean_absolute_error: 0.0153 - val_loss: 9.6153e-05 - val_mean_absolute_error: 0.0058\n",
      "Epoch 10/50\n",
      "93/93 [==============================] - 0s 3ms/step - loss: 4.1007e-04 - mean_absolute_error: 0.0147 - val_loss: 3.1712e-04 - val_mean_absolute_error: 0.0148\n",
      "Epoch 11/50\n",
      "93/93 [==============================] - 0s 4ms/step - loss: 3.9299e-04 - mean_absolute_error: 0.0141 - val_loss: 9.3856e-05 - val_mean_absolute_error: 0.0053\n",
      "Epoch 12/50\n",
      "93/93 [==============================] - 0s 4ms/step - loss: 3.7074e-04 - mean_absolute_error: 0.0139 - val_loss: 7.5753e-04 - val_mean_absolute_error: 0.0253\n",
      "Epoch 13/50\n",
      "93/93 [==============================] - 0s 3ms/step - loss: 3.6072e-04 - mean_absolute_error: 0.0138 - val_loss: 1.3487e-04 - val_mean_absolute_error: 0.0083\n",
      "Epoch 14/50\n",
      "93/93 [==============================] - 0s 3ms/step - loss: 3.4010e-04 - mean_absolute_error: 0.0134 - val_loss: 9.2416e-05 - val_mean_absolute_error: 0.0057\n",
      "Epoch 15/50\n",
      "93/93 [==============================] - 0s 3ms/step - loss: 3.4750e-04 - mean_absolute_error: 0.0136 - val_loss: 2.3873e-04 - val_mean_absolute_error: 0.0124\n",
      "Epoch 16/50\n",
      "93/93 [==============================] - 0s 3ms/step - loss: 3.1740e-04 - mean_absolute_error: 0.0130 - val_loss: 1.0364e-04 - val_mean_absolute_error: 0.0062\n",
      "Epoch 17/50\n",
      "93/93 [==============================] - 0s 4ms/step - loss: 3.2047e-04 - mean_absolute_error: 0.0128 - val_loss: 1.6779e-04 - val_mean_absolute_error: 0.0097\n",
      "Epoch 18/50\n",
      "93/93 [==============================] - 0s 3ms/step - loss: 3.1302e-04 - mean_absolute_error: 0.0127 - val_loss: 9.4515e-05 - val_mean_absolute_error: 0.0055\n",
      "Epoch 19/50\n",
      "93/93 [==============================] - 0s 3ms/step - loss: 2.9036e-04 - mean_absolute_error: 0.0123 - val_loss: 1.9815e-04 - val_mean_absolute_error: 0.0113\n",
      "Epoch 20/50\n",
      "93/93 [==============================] - 0s 4ms/step - loss: 2.7731e-04 - mean_absolute_error: 0.0120 - val_loss: 8.9766e-05 - val_mean_absolute_error: 0.0052\n",
      "Epoch 21/50\n",
      "93/93 [==============================] - 0s 4ms/step - loss: 2.8025e-04 - mean_absolute_error: 0.0120 - val_loss: 2.8885e-04 - val_mean_absolute_error: 0.0132\n",
      "Epoch 22/50\n",
      "93/93 [==============================] - 0s 4ms/step - loss: 2.6450e-04 - mean_absolute_error: 0.0119 - val_loss: 1.1740e-04 - val_mean_absolute_error: 0.0070\n",
      "Epoch 23/50\n",
      "93/93 [==============================] - 0s 4ms/step - loss: 2.6027e-04 - mean_absolute_error: 0.0116 - val_loss: 1.7155e-04 - val_mean_absolute_error: 0.0096\n",
      "Epoch 24/50\n",
      "93/93 [==============================] - 0s 3ms/step - loss: 2.6734e-04 - mean_absolute_error: 0.0118 - val_loss: 1.0639e-04 - val_mean_absolute_error: 0.0065\n",
      "Epoch 25/50\n",
      "93/93 [==============================] - 0s 4ms/step - loss: 2.4966e-04 - mean_absolute_error: 0.0113 - val_loss: 9.0057e-05 - val_mean_absolute_error: 0.0054\n",
      "Epoch 26/50\n",
      "93/93 [==============================] - 0s 3ms/step - loss: 2.5717e-04 - mean_absolute_error: 0.0116 - val_loss: 9.0573e-05 - val_mean_absolute_error: 0.0054\n",
      "Epoch 27/50\n",
      "93/93 [==============================] - 0s 3ms/step - loss: 2.5955e-04 - mean_absolute_error: 0.0115 - val_loss: 9.1851e-05 - val_mean_absolute_error: 0.0054\n",
      "Epoch 28/50\n",
      "93/93 [==============================] - 0s 3ms/step - loss: 2.3294e-04 - mean_absolute_error: 0.0111 - val_loss: 9.4408e-05 - val_mean_absolute_error: 0.0053\n",
      "Epoch 29/50\n",
      "93/93 [==============================] - 0s 4ms/step - loss: 2.4374e-04 - mean_absolute_error: 0.0113 - val_loss: 9.6760e-05 - val_mean_absolute_error: 0.0059\n",
      "Epoch 30/50\n",
      "93/93 [==============================] - 0s 3ms/step - loss: 2.4044e-04 - mean_absolute_error: 0.0112 - val_loss: 9.1743e-05 - val_mean_absolute_error: 0.0056\n",
      "Epoch 31/50\n",
      "93/93 [==============================] - 0s 4ms/step - loss: 2.3248e-04 - mean_absolute_error: 0.0110 - val_loss: 2.1221e-04 - val_mean_absolute_error: 0.0118\n",
      "Epoch 32/50\n",
      "93/93 [==============================] - 0s 4ms/step - loss: 2.4182e-04 - mean_absolute_error: 0.0112 - val_loss: 9.1295e-05 - val_mean_absolute_error: 0.0053\n",
      "Epoch 33/50\n",
      "93/93 [==============================] - 0s 4ms/step - loss: 2.2828e-04 - mean_absolute_error: 0.0105 - val_loss: 1.6094e-04 - val_mean_absolute_error: 0.0086\n",
      "Epoch 34/50\n",
      "93/93 [==============================] - 0s 4ms/step - loss: 2.4248e-04 - mean_absolute_error: 0.0111 - val_loss: 1.0485e-04 - val_mean_absolute_error: 0.0062\n",
      "Epoch 35/50\n",
      "93/93 [==============================] - 0s 4ms/step - loss: 2.3627e-04 - mean_absolute_error: 0.0109 - val_loss: 2.3542e-04 - val_mean_absolute_error: 0.0127\n",
      "Epoch 36/50\n",
      "93/93 [==============================] - 0s 4ms/step - loss: 2.1652e-04 - mean_absolute_error: 0.0105 - val_loss: 3.3716e-04 - val_mean_absolute_error: 0.0159\n",
      "Epoch 37/50\n",
      "93/93 [==============================] - 0s 4ms/step - loss: 2.3027e-04 - mean_absolute_error: 0.0107 - val_loss: 1.0646e-04 - val_mean_absolute_error: 0.0064\n",
      "Epoch 38/50\n",
      "93/93 [==============================] - 0s 3ms/step - loss: 2.2459e-04 - mean_absolute_error: 0.0109 - val_loss: 1.4445e-04 - val_mean_absolute_error: 0.0076\n",
      "Epoch 39/50\n",
      "93/93 [==============================] - 0s 3ms/step - loss: 2.2118e-04 - mean_absolute_error: 0.0105 - val_loss: 1.2269e-04 - val_mean_absolute_error: 0.0073\n",
      "Epoch 40/50\n",
      "93/93 [==============================] - 0s 3ms/step - loss: 2.2507e-04 - mean_absolute_error: 0.0107 - val_loss: 1.2864e-04 - val_mean_absolute_error: 0.0082\n",
      "Epoch 41/50\n",
      "93/93 [==============================] - 0s 4ms/step - loss: 2.2012e-04 - mean_absolute_error: 0.0105 - val_loss: 1.1454e-04 - val_mean_absolute_error: 0.0062\n",
      "Epoch 42/50\n",
      "93/93 [==============================] - 0s 4ms/step - loss: 2.2353e-04 - mean_absolute_error: 0.0105 - val_loss: 9.7874e-05 - val_mean_absolute_error: 0.0059\n",
      "Epoch 43/50\n",
      "93/93 [==============================] - 0s 4ms/step - loss: 2.0349e-04 - mean_absolute_error: 0.0102 - val_loss: 9.3140e-05 - val_mean_absolute_error: 0.0056\n",
      "Epoch 44/50\n",
      "93/93 [==============================] - 0s 3ms/step - loss: 2.1873e-04 - mean_absolute_error: 0.0105 - val_loss: 9.1715e-05 - val_mean_absolute_error: 0.0056\n",
      "Epoch 45/50\n",
      "93/93 [==============================] - 0s 3ms/step - loss: 2.1902e-04 - mean_absolute_error: 0.0103 - val_loss: 1.5646e-04 - val_mean_absolute_error: 0.0092\n",
      "Epoch 46/50\n",
      "93/93 [==============================] - 0s 3ms/step - loss: 2.1697e-04 - mean_absolute_error: 0.0105 - val_loss: 1.0549e-04 - val_mean_absolute_error: 0.0064\n",
      "Epoch 47/50\n",
      "93/93 [==============================] - 0s 4ms/step - loss: 2.1085e-04 - mean_absolute_error: 0.0103 - val_loss: 1.3212e-04 - val_mean_absolute_error: 0.0081\n",
      "Epoch 48/50\n",
      "93/93 [==============================] - 0s 4ms/step - loss: 2.1309e-04 - mean_absolute_error: 0.0104 - val_loss: 1.1137e-04 - val_mean_absolute_error: 0.0069\n"
     ]
    },
    {
     "name": "stdout",
     "output_type": "stream",
     "text": [
      "Epoch 49/50\n",
      "93/93 [==============================] - 0s 4ms/step - loss: 2.1575e-04 - mean_absolute_error: 0.0103 - val_loss: 2.5197e-04 - val_mean_absolute_error: 0.0131\n",
      "Epoch 50/50\n",
      "93/93 [==============================] - 0s 4ms/step - loss: 2.0620e-04 - mean_absolute_error: 0.0100 - val_loss: 9.9413e-05 - val_mean_absolute_error: 0.0061\n"
     ]
    }
   ],
   "source": [
    "history=model.fit(trainX, trainY, epochs = 50, batch_size = 32,validation_data = (trainX, trainY))\n"
   ]
  },
  {
   "cell_type": "code",
   "execution_count": 15,
   "metadata": {},
   "outputs": [
    {
     "data": {
      "image/png": "[encoded data removed]",
      "text/plain": [
       "<Figure size 432x288 with 1 Axes>"
      ]
     },
     "metadata": {
      "needs_background": "light"
     },
     "output_type": "display_data"
    }
   ],
   "source": [
    "import matplotlib.pyplot as plt\n",
    "predicted_stateful = model.predict(testX)\n",
    "plt.plot(testY, color = 'red',label = 'Actual Closing Prices')\n",
    "plt.plot(predicted_stateful.flatten(), color = 'blue', label  = 'Predicted closing Prices')\n",
    "plt.xlabel('Days')\n",
    "plt.ylabel('Normalised Prices')\n",
    "plt.legend(loc='best')\n",
    "plt.show()"
   ]
  },
  {
   "cell_type": "code",
   "execution_count": 16,
   "metadata": {
    "scrolled": true
   },
   "outputs": [
    {
     "name": "stdout",
     "output_type": "stream",
     "text": [
      "Model: \"sequential\"\n",
      "_________________________________________________________________\n",
      "Layer (type)                 Output Shape              Param #   \n",
      "=================================================================\n",
      "lstm (LSTM)                  (None, 1, 128)            66560     \n",
      "_________________________________________________________________\n",
      "dropout (Dropout)            (None, 1, 128)            0         \n",
      "_________________________________________________________________\n",
      "lstm_1 (LSTM)                (None, 64)                49408     \n",
      "_________________________________________________________________\n",
      "dropout_1 (Dropout)          (None, 64)                0         \n",
      "_________________________________________________________________\n",
      "dense (Dense)                (None, 1)                 65        \n",
      "_________________________________________________________________\n",
      "activation (Activation)      (None, 1)                 0         \n",
      "=================================================================\n",
      "Total params: 116,033\n",
      "Trainable params: 116,033\n",
      "Non-trainable params: 0\n",
      "_________________________________________________________________\n"
     ]
    }
   ],
   "source": [
    " model.summary()\n",
    "# print(len(model.layers))  # 2"
   ]
  },
  {
   "cell_type": "code",
   "execution_count": 17,
   "metadata": {},
   "outputs": [],
   "source": [
    "# PREDICTION\n",
    "trainPredict = model.predict(trainX)\n",
    "testPredict = model.predict(testX)"
   ]
  },
  {
   "cell_type": "code",
   "execution_count": 18,
   "metadata": {},
   "outputs": [],
   "source": [
    "# DE-NORMALIZING FOR PLOTTING\n",
    "trainPredict = scaler.inverse_transform(trainPredict)\n",
    "trainY = scaler.inverse_transform([trainY])\n",
    "testPredict = scaler.inverse_transform(testPredict)\n",
    "testY = scaler.inverse_transform([testY])"
   ]
  },
  {
   "cell_type": "code",
   "execution_count": 19,
   "metadata": {},
   "outputs": [
    {
     "name": "stdout",
     "output_type": "stream",
     "text": [
      "Train Mean Absolute Error: 7.669500397409896\n",
      "Train Root Mean Squared Error: 12.521577562553954\n",
      "Test Mean Absolute Error: 29.632205539279514\n",
      "Test Root Mean Squared Error: 42.17696647476662\n",
      "Train R2 Score: 0.9940587019290865 Test R2 Score: 0.9693729156701112\n"
     ]
    }
   ],
   "source": [
    "from sklearn.metrics import mean_squared_error\n",
    "from sklearn.metrics import mean_absolute_error\n",
    "from sklearn.metrics import r2_score\n",
    "print('Train Mean Absolute Error:', mean_absolute_error(trainY[0], trainPredict[:,0]))\n",
    "print('Train Root Mean Squared Error:',np.sqrt(mean_squared_error(trainY[0], trainPredict[:,0])))\n",
    "print('Test Mean Absolute Error:', mean_absolute_error(testY[0], testPredict[:,0]))\n",
    "print('Test Root Mean Squared Error:',np.sqrt(mean_squared_error(testY[0], testPredict[:,0])))\n",
    "print(\"Train R2 Score:\", (r2_score(trainY[0], trainPredict[:,0])),  \"Test R2 Score:\", (r2_score(testY[0], testPredict[:,0])))"
   ]
  },
  {
   "cell_type": "code",
   "execution_count": 20,
   "metadata": {},
   "outputs": [
    {
     "name": "stdout",
     "output_type": "stream",
     "text": [
      "3698\n"
     ]
    }
   ],
   "source": [
    "# CREATING SIMILAR DATASET TO PLOT TRAINING PREDICTIONS\n",
    "#step_size = window_size\n",
    "trainPredictPlot = np.empty_like(df_close)\n",
    "trainPredictPlot[:, :] = np.nan\n",
    "trainPredictPlot[window_size:len(trainPredict)+window_size, :] = trainPredict\n",
    "print(len(trainPredictPlot))"
   ]
  },
  {
   "cell_type": "code",
   "execution_count": 21,
   "metadata": {},
   "outputs": [
    {
     "name": "stdout",
     "output_type": "stream",
     "text": [
      "3698\n"
     ]
    }
   ],
   "source": [
    "# CREATING SIMILAR DATASSET TO PLOT TEST PREDICTIONS\n",
    "testPredictPlot = np.empty_like(df_close)\n",
    "testPredictPlot[:, :] = np.nan\n",
    "testPredictPlot[len(trainPredict)+(window_size*2)+1:len(df_close)-1, :] = testPredict\n",
    "print(len(testPredictPlot))"
   ]
  },
  {
   "cell_type": "code",
   "execution_count": 22,
   "metadata": {},
   "outputs": [],
   "source": [
    "# DE-NORMALIZING MAIN DATASET \n",
    "df_close = scaler.inverse_transform(df_close)"
   ]
  },
  {
   "cell_type": "markdown",
   "metadata": {},
   "source": [
    "### "
   ]
  },
  {
   "cell_type": "code",
   "execution_count": 23,
   "metadata": {
    "scrolled": true
   },
   "outputs": [
    {
     "data": {
      "image/png": "[encoded data removed]",
      "text/plain": [
       "<Figure size 432x288 with 1 Axes>"
      ]
     },
     "metadata": {
      "needs_background": "light"
     },
     "output_type": "display_data"
    }
   ],
   "source": [
    "# PLOT OF MAIN VALUES, TRAIN PREDICTIONS AND TEST PREDICTIONS\n",
    "plt.plot(df_close, 'g', label = 'original dataset')\n",
    "plt.plot(trainPredictPlot, 'r', label = 'training set')\n",
    "plt.plot(testPredictPlot, 'b', label = 'predicted stock price/test set')\n",
    "plt.legend(loc = 'upper right')\n",
    "plt.xlabel('Time in Days')\n",
    "plt.ylabel('Value of Stocks')\n",
    "plt.show()"
   ]
  },
  {
   "cell_type": "code",
   "execution_count": 24,
   "metadata": {},
   "outputs": [
    {
     "name": "stdout",
     "output_type": "stream",
     "text": [
      "[1045.5938]\n"
     ]
    }
   ],
   "source": [
    "last_val = testPredict[-1]\n",
    "print(last_val)"
   ]
  },
  {
   "cell_type": "code",
   "execution_count": 25,
   "metadata": {},
   "outputs": [
    {
     "name": "stdout",
     "output_type": "stream",
     "text": [
      "[1.]\n"
     ]
    }
   ],
   "source": [
    "last_val_scaled = last_val/last_val\n",
    "print(last_val_scaled)"
   ]
  },
  {
   "cell_type": "code",
   "execution_count": 26,
   "metadata": {},
   "outputs": [],
   "source": [
    "next_val = model.predict(np.reshape(last_val_scaled, (1,1,1)))"
   ]
  },
  {
   "cell_type": "code",
   "execution_count": 28,
   "metadata": {},
   "outputs": [
    {
     "name": "stdout",
     "output_type": "stream",
     "text": [
      "Last Day Value: 1045.59375\n",
      "Next Day Value: 941.9628295898438\n"
     ]
    },
    {
     "name": "stderr",
     "output_type": "stream",
     "text": [
      "C:\\Users\\tcgra\\anaconda3\\lib\\site-packages\\ipykernel_launcher.py:5: DeprecationWarning: np.asscalar(a) is deprecated since NumPy v1.16, use a.item() instead\n",
      "  \"\"\"\n",
      "C:\\Users\\tcgra\\anaconda3\\lib\\site-packages\\ipykernel_launcher.py:6: DeprecationWarning: np.asscalar(a) is deprecated since NumPy v1.16, use a.item() instead\n",
      "  \n"
     ]
    }
   ],
   "source": [
    "# PREDICT FUTURE VALUES\n",
    "last_val = testPredict[-1]\n",
    "last_val_scaled = last_val/last_val\n",
    "next_val = model.predict(np.reshape(last_val_scaled, (1,1,1)))\n",
    "print (\"Last Day Value:\" , np.asscalar(last_val))\n",
    "print (\"Next Day Value:\" , np.asscalar(last_val*next_val))\n",
    "#print (np.append(last_val, next_val))"
   ]
  },
  {
   "cell_type": "code",
   "execution_count": null,
   "metadata": {},
   "outputs": [],
   "source": [
    "plt.plot(history.history['loss'])\n",
    "plt.plot(history.history['val_loss'])\n",
    "plt.title('model train vs validation loss')\n",
    "plt.ylabel('loss')\n",
    "plt.xlabel('epoch')\n",
    "plt.legend(['train', 'validation'], loc='upper right')\n",
    "plt.show()"
   ]
  },
  {
   "cell_type": "code",
   "execution_count": null,
   "metadata": {},
   "outputs": [],
   "source": [
    "# PREDICT FUTURE VALUES\n",
    "\n",
    "# future_days = [10,50,100,200,365]\n",
    "# real_val = np.empty(shape=[0, 2])\n",
    "# pred_val = np.empty(shape=[0, 2])\n",
    "# for i in future_days:\n",
    "#     last_val = testPredict[-i]\n",
    "#     last_val_scaled = last_val/last_val\n",
    "#     next_val = model.predict(np.reshape(last_val_scaled, (1,1,1)))\n",
    "#     day_real_val = np.asscalar(last_val)\n",
    "#     day_pred_val = np.asscalar(last_val*next_val)\n",
    "# #     print(\"last val scaled:\", last_val,\"next_val:\", day_pred_val)\n",
    "# #     print (\"Future Days:\", i, \"Last Day Value:\",day_real_val, \"Next Day Value:\",day_pred_val, \"test Score:\", testScore)\n",
    "#     real_val = np.append(real_val,day_real_val)\n",
    "#     pred_val = np.append(pred_val,day_pred_val)\n",
    "# print(real_val)\n",
    "# print(pred_val)"
   ]
  },
  {
   "cell_type": "code",
   "execution_count": null,
   "metadata": {},
   "outputs": [],
   "source": [
    "# from sklearn.metrics import mean_absolute_error\n",
    "# from math import sqrt\n",
    "# mae = mean_absolute_error(real_val, pred_val)\n",
    "# print('MAE: %f' % mae)\n",
    "\n",
    "# mse = mean_squared_error(real_val, pred_val)\n",
    "# rmse = sqrt(mse)\n",
    "# print('RMSE: %f' % rmse)\n",
    "\n",
    "# r2 = r2_score(real_val, pred_val)\n",
    "# print('R2: %f' % r2)"
   ]
  },
  {
   "cell_type": "code",
   "execution_count": null,
   "metadata": {},
   "outputs": [],
   "source": []
  },
  {
   "cell_type": "code",
   "execution_count": null,
   "metadata": {},
   "outputs": [],
   "source": []
  }
 ],
 "metadata": {
  "kernelspec": {
   "display_name": "Python 3",
   "language": "python",
   "name": "python3"
  },
  "language_info": {
   "codemirror_mode": {
    "name": "ipython",
    "version": 3
   },
   "file_extension": ".py",
   "mimetype": "text/x-python",
   "name": "python",
   "nbconvert_exporter": "python",
   "pygments_lexer": "ipython3",
   "version": "3.7.6"
  }
 },
 "nbformat": 4,
 "nbformat_minor": 4
}
