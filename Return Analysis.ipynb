{
 "cells": [
  {
   "cell_type": "code",
   "execution_count": null,
   "metadata": {},
   "outputs": [],
   "source": [
    "import pandas as pd\n",
    "import numpy as np\n",
    "import matplotlib.pyplot as plt\n",
    "import pandas_datareader as web"
   ]
  },
  {
   "cell_type": "code",
   "execution_count": null,
   "metadata": {
    "scrolled": true
   },
   "outputs": [],
   "source": [
    "\n",
    "#Read input file\n",
    "raw_data = pd.read_csv(\"C:\\\\Users\\\\tcgra\\\\Documents\\\\LJMU_Code\\Datasets\\\\reliance_stock.csv\")\n",
    "raw_data.info()"
   ]
  },
  {
   "cell_type": "code",
   "execution_count": null,
   "metadata": {
    "scrolled": false
   },
   "outputs": [],
   "source": [
    "#convert Date obj to Date type\n",
    "raw_data['Date'] = pd.to_datetime(raw_data['Date'])\n",
    "raw_data.info()"
   ]
  },
  {
   "cell_type": "code",
   "execution_count": null,
   "metadata": {
    "scrolled": true
   },
   "outputs": [],
   "source": [
    "raw_data = raw_data.set_index(['Date'])\n",
    "raw_data.info()"
   ]
  },
  {
   "cell_type": "code",
   "execution_count": null,
   "metadata": {},
   "outputs": [],
   "source": [
    "df = raw_data\n",
    "df.info()"
   ]
  },
  {
   "cell_type": "code",
   "execution_count": null,
   "metadata": {},
   "outputs": [],
   "source": [
    "stock_daily_returns = df['Adj Close'].pct_change()\n",
    "stock_monthly_returns = df['Adj Close'].resample('M').ffill().pct_change()\n",
    "stock_yearly_returns = df['Adj Close'].resample('Y').ffill().pct_change()"
   ]
  },
  {
   "cell_type": "code",
   "execution_count": null,
   "metadata": {},
   "outputs": [],
   "source": [
    "# fig = plt.figure()\n",
    "# ax1 = fig.add_axes([0.1,0.1,0.8,0.8])\n",
    "# ax1.plot(stock_monthly_returns)\n",
    "# ax1.set_xlabel(\"Date\")\n",
    "# ax1.set_ylabel(\"Percent\")\n",
    "# ax1.set_title(\"Infosys Stock monthly returns data\")\n",
    "# plt.show()"
   ]
  },
  {
   "cell_type": "code",
   "execution_count": null,
   "metadata": {},
   "outputs": [],
   "source": [
    "stock_cum_returns = (stock_yearly_returns + 1).cumprod()\n",
    "fig = plt.figure()\n",
    "ax1 = fig.add_axes([0.1,0.1,0.8,0.8])\n",
    "stock_cum_returns.plot()\n",
    "ax1.set_xlabel(\"Date\")\n",
    "ax1.set_ylabel(\"Growth of INR 1 investment\")\n",
    "ax1.set_title(\"Stock cumulative returns\")\n",
    "plt.show()"
   ]
  },
  {
   "cell_type": "code",
   "execution_count": null,
   "metadata": {},
   "outputs": [],
   "source": [
    "# compute volatility using Pandas rolling and std methods, the trading days is set to 252 days\n",
    "TRADING_DAYS = 21 #252 #21\n",
    "returns = np.log(df['Close']/df['Close'].shift(1))\n",
    "returns.fillna(0, inplace=True)\n",
    "volatility = returns.rolling(window=TRADING_DAYS).std()*np.sqrt(TRADING_DAYS)\n",
    "\n",
    "fig = plt.figure(figsize=(15, 7))\n",
    "ax1 = fig.add_subplot(1, 1, 1)\n",
    "volatility.plot(ax=ax1)\n",
    "ax1.set_xlabel('Date')\n",
    "ax1.set_ylabel('Volatility')\n",
    "ax1.set_title('Volatility on Stock Returns')\n",
    "plt.show()"
   ]
  },
  {
   "cell_type": "code",
   "execution_count": null,
   "metadata": {},
   "outputs": [],
   "source": [
    "\n",
    "# plt.figure(figsize=(16,8))\n",
    "# plt.plot(df['Adj Close'])\n",
    "# plt.title('Infosys Closing Price Chart')\n",
    "# plt.xlabel('Date')\n",
    "# plt.ylabel('Price')\n",
    "# plt.grid(True)\n",
    "# plt.show()"
   ]
  },
  {
   "cell_type": "code",
   "execution_count": null,
   "metadata": {},
   "outputs": [],
   "source": [
    "\n",
    "\n",
    "from matplotlib import dates as mdates\n",
    "import datetime as dt\n",
    "import calendar\n",
    "import datetime\n",
    "\n",
    "\n",
    "start = '2008-01-01'\n",
    "end = '2018-01-01'\n",
    "\n",
    "monthly = df.asfreq('BM')\n",
    "monthly['Returns'] = df['Adj Close'].pct_change().dropna()\n",
    "monthly['Month_Name'] = monthly.index.strftime(\"%b\")\n",
    "monthly['Month_Name_Year'] = monthly.index.strftime(\"%b-%Y\")\n",
    "\n",
    "\n",
    "monthly = monthly.reset_index()\n",
    "monthly['Month'] = monthly[\"Date\"].dt.month\n",
    "monthly['Returns'].plot(kind='bar', figsize=(30,6))\n",
    "\n",
    "\n",
    "monthly['ReturnsPositive'] = 0 < monthly['Returns']\n",
    "monthly['Date'] = pd.to_datetime(monthly['Date'])\n",
    "monthly['Date'] = monthly['Date'].apply(mdates.date2num)\n",
    "\n",
    "colors = monthly.ReturnsPositive.map({True: 'g', False: 'r'})\n",
    "monthly['Returns'].plot(kind='bar', color = colors, figsize=(30,6))\n",
    "plt.xlabel(\"Months\")\n",
    "plt.ylabel(\"Returns\")\n",
    "plt.title(\"Returns for Each Month \" + start + ' to ' + end)\n",
    "plt.xticks(monthly.index, monthly['Month_Name'])\n",
    "plt.show()"
   ]
  },
  {
   "cell_type": "code",
   "execution_count": null,
   "metadata": {},
   "outputs": [],
   "source": [
    "yearly = df.asfreq('BY')\n",
    "yearly['Returns'] = df['Adj Close'].pct_change().dropna()\n",
    "yearly = yearly.reset_index()\n",
    "yearly['Years'] = yearly['Date'].dt.year\n",
    "yearly"
   ]
  },
  {
   "cell_type": "code",
   "execution_count": null,
   "metadata": {},
   "outputs": [],
   "source": [
    "# yearly_returns_avg = df['Returns'].groupby([df.index.year]).mean()\n",
    "# yearly_returns_avg\n",
    "yearly['ReturnsPositive'] = 0 < yearly['Returns']\n",
    "yearly['Date'] = pd.to_datetime(yearly['Date'])\n",
    "yearly['Date'] = yearly['Date'].apply(mdates.date2num)\n",
    "\n",
    "colors = yearly.ReturnsPositive.map({True: 'b', False: 'b'})\n",
    "plt.figure(figsize=(10,5))\n",
    "plt.bar(yearly['Years'], yearly['Returns'], color=colors, align='center')\n",
    "plt.title('Yearly Returns')\n",
    "plt.xlabel('Date')\n",
    "plt.ylabel('Returns')\n",
    "plt.plot(yearly_returns_avg, marker='o', color='b')\n",
    "plt.show()\n"
   ]
  },
  {
   "cell_type": "code",
   "execution_count": null,
   "metadata": {},
   "outputs": [],
   "source": []
  },
  {
   "cell_type": "code",
   "execution_count": null,
   "metadata": {},
   "outputs": [],
   "source": [
    "import seaborn as sns\n",
    "sns.pairplot(returns[1:])"
   ]
  },
  {
   "cell_type": "code",
   "execution_count": null,
   "metadata": {},
   "outputs": [],
   "source": [
    "returns = pd.DataFrame()\n",
    "returns['Return'] = raw_data['Adj Close'].pct_change()\n"
   ]
  },
  {
   "cell_type": "code",
   "execution_count": null,
   "metadata": {},
   "outputs": [],
   "source": [
    "returns.info()"
   ]
  },
  {
   "cell_type": "code",
   "execution_count": null,
   "metadata": {},
   "outputs": [],
   "source": [
    "import seaborn as sns\n",
    "sns.pairplot(returns[1:])"
   ]
  },
  {
   "cell_type": "code",
   "execution_count": null,
   "metadata": {},
   "outputs": [],
   "source": [
    "# Worst Drop (4 of them on Inauguration day)\n",
    "returns.idxmin()"
   ]
  },
  {
   "cell_type": "code",
   "execution_count": null,
   "metadata": {},
   "outputs": [],
   "source": [
    "# Best Single Day Gain\n",
    "\n",
    "returns.idxmax()"
   ]
  },
  {
   "cell_type": "code",
   "execution_count": null,
   "metadata": {},
   "outputs": [],
   "source": [
    "returns.std()"
   ]
  },
  {
   "cell_type": "code",
   "execution_count": null,
   "metadata": {},
   "outputs": [],
   "source": []
  }
 ],
 "metadata": {
  "kernelspec": {
   "display_name": "Python 3",
   "language": "python",
   "name": "python3"
  },
  "language_info": {
   "codemirror_mode": {
    "name": "ipython",
    "version": 3
   },
   "file_extension": ".py",
   "mimetype": "text/x-python",
   "name": "python",
   "nbconvert_exporter": "python",
   "pygments_lexer": "ipython3",
   "version": "3.7.6"
  }
 },
 "nbformat": 4,
 "nbformat_minor": 4
}
