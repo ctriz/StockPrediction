{
 "cells": [
  {
   "cell_type": "code",
   "execution_count": null,
   "metadata": {},
   "outputs": [],
   "source": [
    "#For data processing\n",
    "import pandas as pd\n",
    "import numpy as np\n",
    "import datetime as dt\n",
    "\n",
    "#For data visualization\n",
    "import matplotlib as mpl\n",
    "import matplotlib.pyplot as plt\n",
    "import seaborn as sns\n",
    "\n",
    "#For models\n",
    "from sklearn import metrics\n",
    "from sklearn.preprocessing import MinMaxScaler\n",
    "from keras.models import Sequential\n",
    "from keras.layers import Dense\n",
    "from keras.layers import LSTM\n",
    "from keras.layers import Dropout\n",
    "\n",
    "# IMPORTING IMPORTANT LIBRARIES\n",
    "import pandas as pd\n",
    "import matplotlib.pyplot as plt\n",
    "import numpy as np \n",
    "\n",
    "import math\n",
    "from sklearn.preprocessing import MinMaxScaler\n",
    "from sklearn.metrics import mean_squared_error\n",
    "from keras.models import Sequential\n",
    "from keras.layers import Dense, Activation\n",
    "from keras.layers import LSTM\n",
    "import preprocessing \n",
    "\n",
    "#version verify\n",
    "from platform import python_version"
   ]
  },
  {
   "cell_type": "code",
   "execution_count": null,
   "metadata": {},
   "outputs": [],
   "source": [
    "# Check versions of modules used \n",
    "print(\"numpy: {}\".format(np.__version__))\n",
    "print(\"pandas: {}\".format(pd.__version__))\n",
    "print('matplotlib: {}'.format(mpl.__version__))\n",
    "print(\"seaborn: {}\".format(sns.__version__))\n",
    "#print(\"yahoo_finance: {}\".format(yf.__version__))\n",
    "print(\"python version:\",python_version())"
   ]
  },
  {
   "cell_type": "code",
   "execution_count": null,
   "metadata": {},
   "outputs": [],
   "source": [
    "\n",
    "# # fix_yahoo_finance is used to fetch data \n",
    "# import yfinance as yf\n",
    "# yf.pdr_override()\n",
    "\n",
    "\n",
    "# # input\n",
    "# symbol = 'RELIANCE.NS'\n",
    "# start = '2017-01-01'\n",
    "# end = '2018-01-01'\n",
    "\n",
    "\n",
    "# # dataframe\n",
    "# dataset = yf.download(symbol,start,end)\n",
    "\n",
    "\n",
    "\n",
    "# # View the last 5 rows\n",
    "# print('Last 5 Rows')\n",
    "# print(df.tail())\n",
    "\n",
    "#Read input file\n",
    "\n",
    "raw_data = pd.read_csv(\"C:\\\\Users\\\\tcgra\\\\Documents\\\\LJMU_Code\\Datasets\\\\infosys_stock.csv\")\n",
    "raw_data.head(5)\n"
   ]
  },
  {
   "cell_type": "code",
   "execution_count": null,
   "metadata": {
    "scrolled": true
   },
   "outputs": [],
   "source": [
    "raw_data.info()"
   ]
  },
  {
   "cell_type": "code",
   "execution_count": null,
   "metadata": {},
   "outputs": [],
   "source": [
    "# Inspect the index \n",
    "raw_data.index"
   ]
  },
  {
   "cell_type": "code",
   "execution_count": null,
   "metadata": {},
   "outputs": [],
   "source": [
    "raw_data.describe() # Statistics"
   ]
  },
  {
   "cell_type": "code",
   "execution_count": null,
   "metadata": {
    "scrolled": true
   },
   "outputs": [],
   "source": [
    "print(\"Stock dataset has {} data points with {} variables each.\".format(*raw_data.shape))"
   ]
  },
  {
   "cell_type": "code",
   "execution_count": null,
   "metadata": {},
   "outputs": [],
   "source": [
    "# if it's a larger dataset and the visualization takes too long can do this.\n",
    "# % of missing.\n",
    "for col in raw_data.columns:\n",
    "    pct_missing = np.mean(raw_data[col].isnull())\n",
    "    print('{} - {}%'.format(col, round(pct_missing*100)))"
   ]
  },
  {
   "cell_type": "code",
   "execution_count": null,
   "metadata": {},
   "outputs": [],
   "source": [
    "#verify if there is any null values in the dataset\n",
    "print(raw_data.isnull().sum())\n",
    "\n",
    "#verify if there is any duplicate records\n",
    "print(raw_data.duplicated())"
   ]
  },
  {
   "cell_type": "code",
   "execution_count": null,
   "metadata": {},
   "outputs": [],
   "source": [
    "dt_data = raw_data\n",
    "dt_data = raw_data.set_index(['Date'])"
   ]
  },
  {
   "cell_type": "code",
   "execution_count": null,
   "metadata": {},
   "outputs": [],
   "source": [
    "import matplotlib.pyplot as plt   # Import matplotlib\n",
    "# This line is necessary for the plot to appear in a Jupyter notebook\n",
    "%matplotlib inline\n",
    "# Control the default size of figures in this Jupyter notebook\n",
    "%pylab inline\n",
    "pylab.rcParams['figure.figsize'] = (15, 9)   # Change the size of plots\n",
    " \n",
    "#dt_data['Date','Open','High','Low','Close'].plot(grid = True) # Plot the adjusted closing price of AAPL\n",
    "dt_data[['Open','High','Low','Close']].plot(figsize=(10,5))\n",
    "plt.title('Open High Low Close')\n",
    "plt.ylabel(\"Price\")\n",
    "plt.show()"
   ]
  },
  {
   "cell_type": "code",
   "execution_count": null,
   "metadata": {
    "scrolled": true
   },
   "outputs": [],
   "source": [
    "raw_data.boxplot(column=['Open','High','Low','Close'])"
   ]
  },
  {
   "cell_type": "code",
   "execution_count": null,
   "metadata": {},
   "outputs": [],
   "source": [
    "Q1=raw_data['Open'].quantile(0.25)\n",
    "Q3=raw_data['Open'].quantile(0.75)\n",
    "IQR=Q3-Q1\n",
    "print(Q1)\n",
    "print(Q3)\n",
    "print(IQR)\n",
    "Lower_Whisker = Q1 - 1.5*IQR\n",
    "Upper_Whisker = Q3+1.5*IQR\n",
    "print(Lower_Whisker, Upper_Whisker)\n",
    "raw_data.shape"
   ]
  },
  {
   "cell_type": "code",
   "execution_count": null,
   "metadata": {},
   "outputs": [],
   "source": [
    "raw_data = raw_data[raw_data['Open']< Upper_Whisker]\n",
    "raw_data.shape"
   ]
  },
  {
   "cell_type": "code",
   "execution_count": null,
   "metadata": {
    "scrolled": true
   },
   "outputs": [],
   "source": [
    "raw_data_float = pd.DataFrame(raw_data,columns=['Open','High','Low','Close'])\n",
    "\n",
    "\n",
    "for i, col in enumerate(raw_data_float.columns):\n",
    "    plt.figure(i)\n",
    "    sns.distplot(raw_data[col])"
   ]
  },
  {
   "cell_type": "code",
   "execution_count": null,
   "metadata": {
    "scrolled": true
   },
   "outputs": [],
   "source": [
    "import seaborn as sns\n",
    "#sns.set_style('White')\n",
    "cmap = sns.diverging_palette(220, 10, as_cmap=True)\n",
    "\n",
    "plt.figure(figsize=(15,10))\n",
    "sns.heatmap(raw_data[1:].corr(), cmap='Blues')\n",
    "plt.show()"
   ]
  },
  {
   "cell_type": "markdown",
   "metadata": {},
   "source": [
    "# Return Distribution Analysis"
   ]
  },
  {
   "cell_type": "code",
   "execution_count": null,
   "metadata": {},
   "outputs": [],
   "source": [
    "# Convert into another dataset\n",
    "df = raw_data.copy()\n",
    "df['Date'] = pd.to_datetime(df['Date'])\n",
    "df = df.set_index(['Date'])\n",
    "\n",
    "#returns = raw_data['Adj Close'].pct_change()[1:].dropna()\n",
    "\n",
    "stock_daily_returns = df['Adj Close'].pct_change()[1:].dropna()\n",
    "stock_monthly_returns = df['Adj Close'].resample('M').ffill().pct_change()[1:].dropna()\n",
    "stock_yearly_returns = df['Adj Close'].resample('Y').ffill().pct_change()[1:].dropna()\n"
   ]
  },
  {
   "cell_type": "code",
   "execution_count": null,
   "metadata": {},
   "outputs": [],
   "source": [
    "returns = stock_yearly_returns\n",
    "\n",
    "import statistics as st\n",
    "import numpy as np\n",
    "from scipy.stats import skew,kurtosis,norm,skewtest,kurtosistest\n",
    "\n",
    "print('Mean of returns:', np.mean(returns))\n",
    "print('SD of returns:', np.std(returns))\n",
    "\n",
    "\n",
    "print(skew(returns))\n",
    "print(skewtest(returns))\n",
    "print(kurtosis(returns))\n",
    "print(kurtosistest(returns))\n",
    "\n",
    "from statsmodels.stats.stattools import jarque_bera\n",
    "\n",
    "_, pvalue, _, _ = jarque_bera(returns)\n",
    "\n",
    "if pvalue > 0.05:\n",
    "    print('The returns are likely normal.')\n",
    "else:\n",
    "    print('The returns are likely not normal.')\n",
    "\n"
   ]
  },
  {
   "cell_type": "code",
   "execution_count": null,
   "metadata": {},
   "outputs": [],
   "source": [
    "# boxplot\n",
    "\n",
    "plt.boxplot(stock_daily_returns,labels=[\"Monthly Returns\"])\n",
    "plt.show()\n"
   ]
  },
  {
   "cell_type": "code",
   "execution_count": null,
   "metadata": {},
   "outputs": [],
   "source": [
    "data_to_plot = [stock_daily_returns, stock_monthly_returns, stock_yearly_returns]\n",
    "fig = plt.figure()\n",
    "# Create an axes instance\n",
    "ax = fig.add_axes([0,0,1,1])\n",
    "# Create the boxplot\n",
    "bp = ax.boxplot(data_to_plot)\n",
    "plt.show()"
   ]
  },
  {
   "cell_type": "markdown",
   "metadata": {},
   "source": [
    "# Skewness & Kurtosis"
   ]
  },
  {
   "cell_type": "code",
   "execution_count": null,
   "metadata": {
    "scrolled": true
   },
   "outputs": [],
   "source": [
    "print(\"Excess kurtosis of returns: \", stats.kurtosis(returns))"
   ]
  },
  {
   "cell_type": "code",
   "execution_count": null,
   "metadata": {},
   "outputs": [],
   "source": [
    "from statsmodels.stats.stattools import jarque_bera\n",
    "\n",
    "_, pvalue, _, _ = jarque_bera(returns)\n",
    "\n",
    "if pvalue > 0.05:\n",
    "    print('The returns are likely normal.')\n",
    "else:\n",
    "    print('The returns are likely not normal.')"
   ]
  },
  {
   "cell_type": "code",
   "execution_count": null,
   "metadata": {},
   "outputs": [],
   "source": [
    "\n",
    "# Plot some example distributions stock's returns\n",
    "returns = stock_daily_returns\n",
    "xs = np.linspace(-6,6, (len(raw_data)-1))\n",
    "normal = stats.norm.pdf(xs)\n",
    "plt.plot(returns,stats.laplace.pdf(returns), label='Leptokurtic')\n",
    "print('Excess kurtosis of leptokurtic distribution:', (stats.laplace.stats(returns)))\n",
    "plt.plot(returns, normal, label='Mesokurtic (normal)')\n",
    "print('Excess kurtosis of mesokurtic distribution:', (stats.norm.stats(returns)))\n",
    "plt.plot(returns,stats.cosine.pdf(returns), label='Platykurtic')\n",
    "print('Excess kurtosis of platykurtic distribution:', (stats.cosine.stats(returns)))\n",
    "plt.legend()"
   ]
  },
  {
   "cell_type": "markdown",
   "metadata": {},
   "source": [
    "# Distribution Analysis of Returns"
   ]
  },
  {
   "cell_type": "code",
   "execution_count": null,
   "metadata": {},
   "outputs": [],
   "source": [
    "returns = stock_monthly_returns\n",
    "t = np.linspace(0.01,0.99,1000)\n",
    "q1 = np.quantile(returns,t)\n",
    "q2 = norm.ppf(t,loc=np.mean(returns),scale=np.std(returns))\n",
    "plt.plot(q1,q2)\n",
    "plt.plot([min(q1),max(q1)],[min(q2),max(q2)])\n",
    "plt.xlim((min(q1),max(q1)))\n",
    "plt.ylim((min(q2),max(q2)))\n",
    "plt.xlabel(\"Daily returns\")\n",
    "plt.ylabel(\"Normal distribution\")\n",
    "plt.show()"
   ]
  },
  {
   "cell_type": "code",
   "execution_count": null,
   "metadata": {
    "scrolled": true
   },
   "outputs": [],
   "source": [
    "values = stock_monthly_returns\n",
    "x = np.linspace(values.min(), values.max(), len(values))\n",
    "loc, scale = stats.norm.fit(values)\n",
    "param_density = stats.norm.pdf(x, loc=loc, scale=scale)\n",
    "label = 'mean=%.4f, std=%.4f' % (loc, scale)\n",
    "\n",
    "fig, ax = plt.subplots(figsize=(10, 6))\n",
    "ax.hist(values, bins=30, normed=True)\n",
    "ax.plot(x, param_density, 'r-', label=label)\n",
    "ax.legend(loc='best')\n",
    "ax.set_title(\"Probability Density Function\")"
   ]
  },
  {
   "cell_type": "markdown",
   "metadata": {},
   "source": [
    "values = stock_monthly_returns\n",
    "x = np.linspace(values.min(), values.max(), len(values))\n",
    "loc, scale = stats.norm.fit(values)\n",
    "param_density = stats.norm.cdf(x, loc=loc, scale=scale)\n",
    "label = 'mean=%.4f, std=%.4f' % (loc, scale)\n",
    "\n",
    "fig, ax = plt.subplots(figsize=(10, 6))\n",
    "#ax.hist(values, bins=30, normed=True)\n",
    "ax.plot(x, param_density, 'r-', label=label)\n",
    "ax.legend(loc='best')\n",
    "ax.set_title(\"Cumulative Probability Distribution\")"
   ]
  },
  {
   "cell_type": "code",
   "execution_count": null,
   "metadata": {},
   "outputs": [],
   "source": [
    "stock_daily_returns = df['Adj Close'].pct_change()\n",
    "plt.stem(raw_data['Date'], stock_daily_returns)\n",
    "(dt_data['Volume']/1000000).plot(figsize = (15, 7.5), \n",
    "                                 color = 'green', \n",
    "                                 alpha = 0.5)\n",
    "plt.show"
   ]
  },
  {
   "cell_type": "code",
   "execution_count": null,
   "metadata": {},
   "outputs": [],
   "source": []
  },
  {
   "cell_type": "code",
   "execution_count": null,
   "metadata": {},
   "outputs": [],
   "source": []
  },
  {
   "cell_type": "code",
   "execution_count": null,
   "metadata": {},
   "outputs": [],
   "source": []
  },
  {
   "cell_type": "code",
   "execution_count": null,
   "metadata": {},
   "outputs": [],
   "source": []
  },
  {
   "cell_type": "code",
   "execution_count": null,
   "metadata": {
    "scrolled": true
   },
   "outputs": [],
   "source": [
    "from scipy.stats import binom\n",
    "\n",
    "n = len(raw_data['Returns'])\n",
    "p = raw_data['Returns'].mean()\n",
    "k = np.arange(0,21)\n",
    "binomial = binom.pmf(k,n,p)\n",
    "\n",
    "plt.plot(k, binomial, 'o-')\n",
    "plt.title(\"Binomial: n=%i, p=%.2f\" % (n,p), fontsize=15)\n",
    "plt.xlabel(\"Number of successes\", fontsize=15)\n",
    "plt.ylabel(\"Probability of successes\", fontsize=15)\n",
    "plt.show()"
   ]
  },
  {
   "cell_type": "code",
   "execution_count": null,
   "metadata": {},
   "outputs": [],
   "source": [
    "s = np.random.uniform(values.min(), values.max(), len(values))\n",
    "\n",
    "import matplotlib.pyplot as plt\n",
    "count, bins, ignored = plt.hist(s, 15, density=True)\n",
    "plt.plot(bins, np.ones_like(bins), linewidth=2, color='r')\n",
    "plt.show()"
   ]
  },
  {
   "cell_type": "code",
   "execution_count": null,
   "metadata": {},
   "outputs": [],
   "source": [
    "rate = 3 # Error Rate\n",
    "n = np.arange(0,10) # Number of Trials\n",
    "y = stats.poisson.pmf(n, rate)\n",
    "y"
   ]
  },
  {
   "cell_type": "code",
   "execution_count": null,
   "metadata": {},
   "outputs": [],
   "source": [
    "\n",
    "plt.plot(n, y, 'o-')\n",
    "plt.title('Poisson: $\\lambda$ =%i' % rate)\n",
    "plt.ylabel('Probability Error')\n",
    "plt.xlabel('Number of Errors (out of 100 trials)')\n",
    "plt.show()"
   ]
  },
  {
   "cell_type": "markdown",
   "metadata": {},
   "source": [
    "Compute Alpha & Beta"
   ]
  }
 ],
 "metadata": {
  "kernelspec": {
   "display_name": "Python 3",
   "language": "python",
   "name": "python3"
  },
  "language_info": {
   "codemirror_mode": {
    "name": "ipython",
    "version": 3
   },
   "file_extension": ".py",
   "mimetype": "text/x-python",
   "name": "python",
   "nbconvert_exporter": "python",
   "pygments_lexer": "ipython3",
   "version": "3.7.6"
  }
 },
 "nbformat": 4,
 "nbformat_minor": 4
}
