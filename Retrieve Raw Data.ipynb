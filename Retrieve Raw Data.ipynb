{
 "cells": [
  {
   "cell_type": "code",
   "execution_count": null,
   "metadata": {},
   "outputs": [],
   "source": [
    "# Libraries\n",
    "import pandas as pd\n",
    "import numpy as np\n",
    "import yfinance as yf\n",
    "from datetime import datetime\n",
    "import warnings\n",
    "warnings.filterwarnings(\"ignore\")"
   ]
  },
  {
   "cell_type": "code",
   "execution_count": null,
   "metadata": {},
   "outputs": [],
   "source": [
    "class FetchData(object):\n",
    "    \n",
    "    def __init__(self, data, start, end):\n",
    "        '''\n",
    "        Arguments:\n",
    "            @data: takes in the name of the stock\n",
    "                    for analysis\n",
    "            @source: API from where data is fetched from\n",
    "                    mostly yahoo.\n",
    "            @start: Start date for data source in the format\n",
    "                    e.g \n",
    "                    >>datetime(2000, 1, 1)\n",
    "            @end: the end of the timeseries for data collection\n",
    "                    e.g \n",
    "                    >>datetime.now()\n",
    "            \n",
    "       \n",
    "        '''\n",
    "        self.data = data\n",
    "        self.start = start\n",
    "        self.end = end\n",
    "        self.train = False\n",
    "        \n",
    "    def fetch(self):\n",
    "        if not self.data:\n",
    "            raise ValueError('Stock name not available')\n",
    "        elif not self.start or not self.end:\n",
    "            raise ValueError('Start date and End date not specified')\n",
    "        else:\n",
    "            dataframe = yf.download(self.data, self.start, self.end)\n",
    "            #dataframe = web.DataReader()\n",
    "        return dataframe\n",
    "       "
   ]
  },
  {
   "cell_type": "code",
   "execution_count": null,
   "metadata": {},
   "outputs": [],
   "source": [
    "traindf =  FetchData(\"SBIN.NS\", datetime(2013, 1, 1),datetime(2018, 12, 31)).fetch()"
   ]
  },
  {
   "cell_type": "code",
   "execution_count": null,
   "metadata": {},
   "outputs": [],
   "source": [
    "testdf = FetchData(\"SBIN.NS\", datetime(2013, 1, 1),datetime(2018, 12, 31)).fetch()"
   ]
  },
  {
   "cell_type": "code",
   "execution_count": null,
   "metadata": {},
   "outputs": [],
   "source": [
    "\n",
    "# View the first 5 rows\n",
    "print('First 5 Rows')\n",
    "print(df.head(5))\n",
    "\n",
    "\n",
    "# View the last 5 rows\n",
    "print('Last 5 Rows')\n",
    "print(df.tail(5))"
   ]
  },
  {
   "cell_type": "code",
   "execution_count": null,
   "metadata": {},
   "outputs": [],
   "source": [
    "len(df)"
   ]
  },
  {
   "cell_type": "code",
   "execution_count": null,
   "metadata": {},
   "outputs": [],
   "source": [
    "df.to_csv('temp_data.csv')"
   ]
  },
  {
   "cell_type": "code",
   "execution_count": null,
   "metadata": {},
   "outputs": [],
   "source": [
    "def get_feature_importance_data(dataset):\n",
    "    data = dataset.copy()\n",
    "    y = data['Close']\n",
    "    X = data.iloc[:,1:19]\n",
    "    \n",
    "    train_samples = int(X.shape[0] * 0.65)\n",
    " \n",
    "    X_train = X.iloc[:train_samples]\n",
    "    X_test = X.iloc[train_samples:]\n",
    "\n",
    "    y_train = y.iloc[:train_samples]\n",
    "    y_test = y.iloc[train_samples:]\n",
    "    \n",
    "    return (X_train, y_train), (X_test, y_test)"
   ]
  },
  {
   "cell_type": "code",
   "execution_count": null,
   "metadata": {},
   "outputs": [],
   "source": [
    "# Get training and test data\n",
    "(X_train, Y_train), (x_test, y_test_FI) = get_feature_importance_data(df)"
   ]
  },
  {
   "cell_type": "code",
   "execution_count": null,
   "metadata": {},
   "outputs": [],
   "source": [
    "class feature_importance(object):\n",
    "    def __init__(self, Xf, Yf):\n",
    "        import matplotlib.pyplot as plt\n",
    "        import seaborn as sns\n",
    "        from sklearn.ensemble import RandomForestClassifier\n",
    "        self.model = RandomForestClassifier(n_estimators=250, max_depth=25)\n",
    "        self.model.fit(Xf, Yf)\n",
    "        importance = pd.DataFrame({'features': Xf.columns,\n",
    "                        'importances': self.model.feature_importances_})\n",
    "        importance = importance.sort_values('importances', ascending=False)\n",
    "        plt.figure(figsize = (16,12))\n",
    "        sns.barplot(importance.importances, importance.features)\n",
    "        plt.title('Feature Importance Plot')\n",
    "        plt.show()\n",
    "        \n",
    "feature_importance(df, Y_train)\n",
    "#Xf, Yf, X_train, X_test, Y_train, Y_test = NormalizeData(7, 15).normalizeData()"
   ]
  },
  {
   "cell_type": "code",
   "execution_count": null,
   "metadata": {},
   "outputs": [],
   "source": []
  }
 ],
 "metadata": {
  "kernelspec": {
   "display_name": "Python 3",
   "language": "python",
   "name": "python3"
  },
  "language_info": {
   "codemirror_mode": {
    "name": "ipython",
    "version": 3
   },
   "file_extension": ".py",
   "mimetype": "text/x-python",
   "name": "python",
   "nbconvert_exporter": "python",
   "pygments_lexer": "ipython3",
   "version": "3.7.6"
  }
 },
 "nbformat": 4,
 "nbformat_minor": 4
}
