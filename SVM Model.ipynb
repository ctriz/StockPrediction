{
 "cells": [
  {
   "cell_type": "code",
   "execution_count": null,
   "metadata": {},
   "outputs": [],
   "source": [
    "import numpy as np\n",
    "import pandas as pd\n",
    "import matplotlib.pyplot as plt\n",
    "from sklearn.preprocessing import StandardScaler\n",
    "from sklearn.model_selection import train_test_split\n",
    "from sklearn.metrics import mean_absolute_error\n",
    "from sklearn.svm import SVR\n",
    "from sklearn.model_selection import GridSearchCV\n",
    "from collections import Counter\n",
    "\n",
    "import datetime as dt\n",
    "\n",
    "import talib\n"
   ]
  },
  {
   "cell_type": "code",
   "execution_count": null,
   "metadata": {
    "scrolled": false
   },
   "outputs": [],
   "source": [
    "df = pd.read_csv(\"C:\\\\Users\\\\tcgra\\\\Documents\\\\LJMU_Code\\Datasets\\\\infosys_stock.csv\")\n",
    "df.head(5)\n",
    "df.info()"
   ]
  },
  {
   "cell_type": "code",
   "execution_count": null,
   "metadata": {},
   "outputs": [],
   "source": [
    "df = df[['Open', 'High', 'Low', 'Close']]"
   ]
  },
  {
   "cell_type": "code",
   "execution_count": null,
   "metadata": {},
   "outputs": [],
   "source": [
    "# A variable for predicting 'n' days out into the future\n",
    "forecast_out = 100 #'n=30' days\n",
    "#Create another column (the target ) shifted 'n' units up\n",
    "df['Prediction'] = df[['Close']].shift(-forecast_out)\n",
    "df = df.dropna()\n",
    "#print the new data set\n",
    "print(df.tail())"
   ]
  },
  {
   "cell_type": "code",
   "execution_count": null,
   "metadata": {},
   "outputs": [],
   "source": [
    "## Create the independent data set (X) to train model.\n",
    "#  Create a variable called ‘X’ \n",
    "#  Cnvert the dataframe into a numpy array after dropping the ‘Prediction’ column\n",
    "#  Store this new data into ‘X’.\n",
    "\n",
    "X = np.array(df.drop(['Prediction'],1))\n",
    "\n",
    "#Remove the last '30' rows\n",
    "X = X[:-forecast_out]\n",
    "print(X)"
   ]
  },
  {
   "cell_type": "code",
   "execution_count": null,
   "metadata": {},
   "outputs": [],
   "source": [
    "### Create the dependent data set (y)  #####\n",
    "# Convert the dataframe to a numpy array and from the ‘Prediction’ column\n",
    "y = np.array(df['Prediction'])\n",
    "# Get all of the y values except the last '30' rows\n",
    "y = y[:-forecast_out]\n",
    "print(y)"
   ]
  },
  {
   "cell_type": "markdown",
   "metadata": {},
   "source": [
    "Feature scaling"
   ]
  },
  {
   "cell_type": "code",
   "execution_count": null,
   "metadata": {},
   "outputs": [],
   "source": [
    "scaled = StandardScaler()\n",
    "scaled.fit(X)\n",
    "X = scaled.transform(X)"
   ]
  },
  {
   "cell_type": "markdown",
   "metadata": {},
   "source": [
    "Train Test Split"
   ]
  },
  {
   "cell_type": "code",
   "execution_count": null,
   "metadata": {},
   "outputs": [],
   "source": [
    "X_train, X_test, y_train, y_test = train_test_split(X, y, test_size=0.25)"
   ]
  },
  {
   "cell_type": "markdown",
   "metadata": {},
   "source": [
    "## Support Vector Machine Regression"
   ]
  },
  {
   "cell_type": "markdown",
   "metadata": {},
   "source": [
    "Performing Grid Search for finding best parameters for SVM Regression"
   ]
  },
  {
   "cell_type": "code",
   "execution_count": null,
   "metadata": {},
   "outputs": [],
   "source": [
    "#  parameters = {'kernel':('sigmoid',''), 'C':[100,1000,10000,50000,100000],'degree':[1,2],'epsilon':[0.1,1,2,4,5],'tol': [0.1,0.5]}\n",
    "#  sv = SVR(gamma = 'auto')\n",
    "#  grid_search = GridSearchCV(sv, parameters, verbose = 3 ,cv = 3)\n",
    "\n",
    "#  grid_search.fit(X_train,y_train)\n",
    "\n",
    "#  grid_search.best_estimator_\n",
    "\n",
    "#SVR(C=50000, cache_size=200, coef0=0.0, degree=1, epsilon=2, gamma='auto',kernel='rbf', max_iter=-1, shrinking=True, tol=0.1, verbose=False)\n",
    "\n",
    "# SVR(C=100, cache_size=200, coef0=0.0, degree=1, epsilon=5, gamma='auto',\n",
    "#     kernel='sigmoid', max_iter=-1, shrinking=True, tol=0.1, verbose=False)"
   ]
  },
  {
   "cell_type": "markdown",
   "metadata": {},
   "source": [
    "## Testing"
   ]
  },
  {
   "cell_type": "code",
   "execution_count": null,
   "metadata": {},
   "outputs": [],
   "source": [
    "svr_poly = SVR(C=50000, cache_size=200, coef0=0.0, degree=1, epsilon=2, gamma='auto',\n",
    "  kernel='rbf', max_iter=-1, shrinking=True, tol=0.1, verbose=False)"
   ]
  },
  {
   "cell_type": "code",
   "execution_count": null,
   "metadata": {},
   "outputs": [],
   "source": [
    "svr_poly.fit(X_train, y_train)"
   ]
  },
  {
   "cell_type": "code",
   "execution_count": null,
   "metadata": {},
   "outputs": [],
   "source": [
    "svm_poly_predict = svr_poly.predict(X_test)"
   ]
  },
  {
   "cell_type": "code",
   "execution_count": null,
   "metadata": {},
   "outputs": [],
   "source": [
    "from sklearn.metrics import mean_absolute_error, mean_squared_error\n",
    "\n",
    "mae = mean_absolute_error(svm_poly_predict,y_test)\n",
    "rmse = mean_squared_error(svm_poly_predict,y_test, squared= False)\n",
    "\n",
    "def mean_absolute_percentage_error(y_true, y_pred):\n",
    "    y_true, y_pred = np.array(y_true), np.array(y_pred)\n",
    "    return np.mean(np.abs((y_true - y_pred) / y_true)) * 100\n",
    "mape = mean_absolute_percentage_error(svm_poly_predict,y_test)\n",
    "\n",
    "print('The mae is {} , rmse is {} and mape is {}.'.format(mae,rmse, mape))\n"
   ]
  },
  {
   "cell_type": "code",
   "execution_count": null,
   "metadata": {
    "scrolled": true
   },
   "outputs": [],
   "source": [
    "# confidence = svr_poly.score(X_test, y_test)\n",
    "# print('accuracy:',confidence)"
   ]
  },
  {
   "cell_type": "code",
   "execution_count": null,
   "metadata": {},
   "outputs": [],
   "source": [
    "from sklearn.metrics import r2_score\n",
    "accuracy = r2_score(svm_poly_predict, y_test)\n",
    "print(\"r2-score:\", accuracy)\n"
   ]
  },
  {
   "cell_type": "code",
   "execution_count": null,
   "metadata": {},
   "outputs": [],
   "source": [
    "from sklearn.metrics import mean_absolute_error, mean_squared_error\n",
    "accuracy = mean_absolute_error(svm_poly_predict, y_test)\n",
    "print(\"mae score:\", accuracy)"
   ]
  },
  {
   "cell_type": "code",
   "execution_count": null,
   "metadata": {},
   "outputs": [],
   "source": [
    "fig=plt.figure(figsize=(30, 15), dpi= 80, facecolor='w', edgecolor='k')\n",
    "plt.plot(svm_poly_predict[0:50],label = \"Predicted values\")\n",
    "plt.plot(y_test[0:100], label = \"Actual values\")\n",
    "plt.xlabel('time in day', fontsize = 'xx-large')\n",
    "plt.ylabel('Stock prices in INR', fontsize = 'xx-large')\n",
    "plt.title('SVM - Poly Kernel - 100 days', fontsize = 'xx-large')\n",
    "plt.legend(fontsize = 'xx-large')\n",
    "plt.show()"
   ]
  },
  {
   "cell_type": "code",
   "execution_count": null,
   "metadata": {},
   "outputs": [],
   "source": [
    "svr_rbf = SVR(C=30000, cache_size=200, coef0=0.0, degree=1, epsilon=5, gamma='auto',\n",
    "  kernel='rbf', max_iter=-1, shrinking=True, tol=0.1, verbose=False)\n",
    "\n",
    "svr_rbf.fit(X_train, y_train)\n",
    "\n",
    "svm_rbf_predict = svr_rbf.predict(X_test)"
   ]
  },
  {
   "cell_type": "code",
   "execution_count": null,
   "metadata": {},
   "outputs": [],
   "source": [
    "from sklearn.metrics import mean_absolute_error, mean_squared_error \n",
    "\n",
    "mae = mean_absolute_error(svm_rbf_predict,y_test)\n",
    "rmse = mean_squared_error(svm_rbf_predict,y_test, squared= False)\n",
    "\n",
    "def mean_absolute_percentage_error(y_true, y_pred):\n",
    "    y_true, y_pred = np.array(y_true), np.array(y_pred)\n",
    "    return np.mean(np.abs((y_true - y_pred) / y_true)) * 100\n",
    "mape = mean_absolute_percentage_error(svm_rbf_predict,y_test)\n",
    "\n",
    "print('The mae is {} , rmse is {} and mape is {}.'.format(mae,rmse, mape))"
   ]
  },
  {
   "cell_type": "code",
   "execution_count": null,
   "metadata": {},
   "outputs": [],
   "source": [
    "confidence = svr_rbf.score(X_test, y_test)\n",
    "print('accuracy:',confidence)"
   ]
  },
  {
   "cell_type": "code",
   "execution_count": null,
   "metadata": {},
   "outputs": [],
   "source": [
    "from sklearn.metrics import r2_score\n",
    "accuracy = r2_score(svm_rbf_predict, y_test)\n",
    "print(\"r2-score:\", accuracy)"
   ]
  },
  {
   "cell_type": "code",
   "execution_count": null,
   "metadata": {},
   "outputs": [],
   "source": [
    "fig=plt.figure(figsize=(30, 15), dpi= 80, facecolor='w', edgecolor='k')\n",
    "plt.plot(svm_rbf_predict[0:50],label = \"Predicted values\")\n",
    "plt.plot(y_test[0:50], label = \"Actual values\")\n",
    "plt.xlabel('time in day', fontsize = 'xx-large')\n",
    "plt.ylabel('Stock prices in INR', fontsize = 'xx-large')\n",
    "plt.title('SVM - RBF Kernel - 100 days to Future', fontsize = 'xx-large')\n",
    "plt.legend(fontsize = 'xx-large')\n",
    "plt.show()"
   ]
  },
  {
   "cell_type": "code",
   "execution_count": null,
   "metadata": {},
   "outputs": [],
   "source": [
    "svr_linear = SVR(C=30000, cache_size=200, coef0=0.0, degree=1, epsilon=5, gamma='auto',\n",
    "  kernel='linear', max_iter=-1, shrinking=True, tol=0.1, verbose=False)\n",
    "\n",
    "svr_linear.fit(X_train, y_train)\n",
    "svm_linear_predict = svr_linear.predict(X_test)"
   ]
  },
  {
   "cell_type": "code",
   "execution_count": null,
   "metadata": {},
   "outputs": [],
   "source": [
    "from sklearn.metrics import mean_absolute_error, mean_squared_error \n",
    "\n",
    "mae = mean_absolute_error(svm_linear_predict,y_test)\n",
    "rmse = mean_squared_error(svm_linear_predict,y_test, squared= False)\n",
    "\n",
    "def mean_absolute_percentage_error(y_true, y_pred):\n",
    "    y_true, y_pred = np.array(y_true), np.array(y_pred)\n",
    "    return np.mean(np.abs((y_true - y_pred) / y_true)) * 100\n",
    "mape = mean_absolute_percentage_error(svm_linear_predict,y_test)\n",
    "\n",
    "print('The mae is {} , rmse is {} and mape is {}.'.format(mae,rmse, mape))"
   ]
  },
  {
   "cell_type": "code",
   "execution_count": null,
   "metadata": {},
   "outputs": [],
   "source": [
    "confidence = svr_linear.score(X_test, y_test)\n",
    "print('accuracy:',confidence)\n",
    "    "
   ]
  },
  {
   "cell_type": "code",
   "execution_count": null,
   "metadata": {},
   "outputs": [],
   "source": [
    "from sklearn.metrics import r2_score\n",
    "accuracy = r2_score(svm_linear_predict, y_test)\n",
    "print(\"r2-score:\", accuracy)"
   ]
  },
  {
   "cell_type": "code",
   "execution_count": null,
   "metadata": {},
   "outputs": [],
   "source": [
    "fig=plt.figure(figsize=(30, 15), dpi= 80, facecolor='w', edgecolor='k')\n",
    "plt.plot(svm_linear_predict[0:50],label = \"Predicted values\")\n",
    "plt.plot(y_test[0:50], label = \"Actual values\")\n",
    "plt.xlabel('time in day', fontsize = 'xx-large')\n",
    "plt.ylabel('Stock prices in INR', fontsize = 'xx-large')\n",
    "plt.title('SVM - RBF Linear - 100 days', fontsize = 'xx-large')\n",
    "plt.legend(fontsize = 'xx-large')\n",
    "plt.show()"
   ]
  },
  {
   "cell_type": "code",
   "execution_count": null,
   "metadata": {},
   "outputs": [],
   "source": []
  }
 ],
 "metadata": {
  "kernelspec": {
   "display_name": "Python 3",
   "language": "python",
   "name": "python3"
  },
  "language_info": {
   "codemirror_mode": {
    "name": "ipython",
    "version": 3
   },
   "file_extension": ".py",
   "mimetype": "text/x-python",
   "name": "python",
   "nbconvert_exporter": "python",
   "pygments_lexer": "ipython3",
   "version": "3.7.6"
  }
 },
 "nbformat": 4,
 "nbformat_minor": 2
}
